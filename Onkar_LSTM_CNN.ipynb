{
  "nbformat": 4,
  "nbformat_minor": 0,
  "metadata": {
    "colab": {
      "provenance": [],
      "toc_visible": true
    },
    "kernelspec": {
      "name": "python3",
      "display_name": "Python 3"
    },
    "language_info": {
      "name": "python"
    },
    "accelerator": "GPU",
    "gpuClass": "standard"
  },
  "cells": [
    {
      "cell_type": "markdown",
      "source": [
        "# Imports"
      ],
      "metadata": {
        "id": "Y5YdI-zLzyQY"
      }
    },
    {
      "cell_type": "code",
      "execution_count": null,
      "metadata": {
        "colab": {
          "base_uri": "https://localhost:8080/"
        },
        "id": "oSL2wCifzO-c",
        "outputId": "3d7457f8-8968-40a5-dc55-56d1211df4f7"
      },
      "outputs": [
        {
          "output_type": "stream",
          "name": "stderr",
          "text": [
            "[nltk_data] Downloading package names to /root/nltk_data...\n",
            "[nltk_data]   Unzipping corpora/names.zip.\n"
          ]
        }
      ],
      "source": [
        "import nltk\n",
        "nltk.download('names')\n",
        "from nltk.corpus import names\n",
        "import random\n",
        "import matplotlib.pyplot as plt\n",
        "import numpy as np\n",
        "from sklearn.model_selection import train_test_split\n",
        "from tensorflow.keras.layers import Dense, LSTM, MaxPooling1D, Conv1D, Dropout,Flatten\n",
        "from tensorflow.keras import Sequential\n",
        "from tensorflow.keras.optimizers import Adam, SGD, RMSprop\n",
        "from gensim.models import Word2Vec\n",
        "from sklearn.preprocessing import MinMaxScaler\n",
        "import tensorflow as tf\n",
        "from imblearn.over_sampling import SMOTE\n",
        "from sklearn.metrics import confusion_matrix, precision_score, recall_score, f1_score\n",
        "import seaborn as sns\n",
        "tf.random.set_seed(14)"
      ]
    },
    {
      "cell_type": "markdown",
      "source": [
        "# Load Dataset"
      ],
      "metadata": {
        "id": "vK1AO0BWz3AL"
      }
    },
    {
      "cell_type": "code",
      "source": [
        "male=names.words('male.txt')\n",
        "female=names.words('female.txt')\n",
        "mlabel=['Male']*len(male)\n",
        "flabel=['Female']*len(female)\n",
        "male.extend(female)\n",
        "data=male\n",
        "mlabel.extend(flabel)\n",
        "labels=mlabel"
      ],
      "metadata": {
        "id": "JmiTpTMwz18S"
      },
      "execution_count": null,
      "outputs": []
    },
    {
      "cell_type": "markdown",
      "source": [
        "# Shuffling data"
      ],
      "metadata": {
        "id": "2_9TFEp338Aj"
      }
    },
    {
      "cell_type": "code",
      "source": [
        "c = list(zip(data, labels))\n",
        "random.shuffle(c)\n",
        "data, labels = zip(*c)\n",
        "data=np.array(data)\n",
        "labels=np.array(labels)\n",
        "print(data)\n",
        "print(labels)"
      ],
      "metadata": {
        "colab": {
          "base_uri": "https://localhost:8080/"
        },
        "id": "AD_0Z7_70X_5",
        "outputId": "aed21275-ee8f-40ec-ce64-203686d8c113"
      },
      "execution_count": null,
      "outputs": [
        {
          "output_type": "stream",
          "name": "stdout",
          "text": [
            "['Lyndsie' 'Val' 'Fae' ... 'Giffer' 'Marisa' 'Elliot']\n",
            "['Female' 'Male' 'Female' ... 'Male' 'Female' 'Male']\n"
          ]
        }
      ]
    },
    {
      "cell_type": "code",
      "source": [
        "mappings={0:'Female',1:'Male'}"
      ],
      "metadata": {
        "id": "9_ToM86NNtkR"
      },
      "execution_count": null,
      "outputs": []
    },
    {
      "cell_type": "markdown",
      "source": [
        "# Visualisations"
      ],
      "metadata": {
        "id": "9T1jkb2t3_lz"
      }
    },
    {
      "cell_type": "code",
      "source": [
        "fig,ax=plt.subplots()\n",
        "lbl, counts = np.unique(labels, return_counts=True)\n",
        "ax.bar(lbl, counts, align='center')\n",
        "ax.set_xticks(labels)\n",
        "ax.set_title('Data distribution plot')\n",
        "ax.set_xlabel('Labels')\n",
        "ax.set_ylabel('Count')\n",
        "plt.show()"
      ],
      "metadata": {
        "colab": {
          "base_uri": "https://localhost:8080/",
          "height": 295
        },
        "id": "6VrfVN_f2Tk1",
        "outputId": "4db2c54e-7ea5-453c-e5e1-a06da949e64b"
      },
      "execution_count": null,
      "outputs": [
        {
          "output_type": "display_data",
          "data": {
            "text/plain": [
              "<Figure size 432x288 with 1 Axes>"
            ],
            "image/png": "[encoded data removed]"
          },
          "metadata": {
            "needs_background": "light"
          }
        }
      ]
    },
    {
      "cell_type": "markdown",
      "source": [
        "# Preprocessing data"
      ],
      "metadata": {
        "id": "5mal6S2FhcmH"
      }
    },
    {
      "cell_type": "markdown",
      "source": [
        "Label Encoder on labels"
      ],
      "metadata": {
        "id": "bAgRqzzTmWr7"
      }
    },
    {
      "cell_type": "code",
      "source": [
        "labels"
      ],
      "metadata": {
        "colab": {
          "base_uri": "https://localhost:8080/"
        },
        "id": "Vmdvk2IXng4o",
        "outputId": "4bacb972-b668-4abc-a293-533ad09e5558"
      },
      "execution_count": null,
      "outputs": [
        {
          "output_type": "execute_result",
          "data": {
            "text/plain": [
              "array(['Female', 'Male', 'Female', ..., 'Male', 'Female', 'Male'],\n",
              "      dtype='<U6')"
            ]
          },
          "metadata": {},
          "execution_count": 5
        }
      ]
    },
    {
      "cell_type": "code",
      "source": [
        "labels=np.array([1 if lbl=='Male' else 0 for lbl in labels],dtype='float32')\n",
        "labels"
      ],
      "metadata": {
        "colab": {
          "base_uri": "https://localhost:8080/"
        },
        "id": "wZgedkalmWBx",
        "outputId": "cfae75c9-0d4e-44ad-c997-9ff11af9e9b8"
      },
      "execution_count": null,
      "outputs": [
        {
          "output_type": "execute_result",
          "data": {
            "text/plain": [
              "array([0., 1., 0., ..., 1., 0., 1.], dtype=float32)"
            ]
          },
          "metadata": {},
          "execution_count": 6
        }
      ]
    },
    {
      "cell_type": "markdown",
      "source": [
        "Convert to lowercase"
      ],
      "metadata": {
        "id": "Oerg8n_fhgIC"
      }
    },
    {
      "cell_type": "code",
      "source": [
        "lower=[x.lower() for x in data]\n",
        "lower[:5]"
      ],
      "metadata": {
        "colab": {
          "base_uri": "https://localhost:8080/"
        },
        "id": "x4lgX2C2hcBq",
        "outputId": "7b4ea7fe-44cd-4427-8429-88ac72186fdd"
      },
      "execution_count": null,
      "outputs": [
        {
          "output_type": "execute_result",
          "data": {
            "text/plain": [
              "['lyndsie', 'val', 'fae', 'willi', 'sutton']"
            ]
          },
          "metadata": {},
          "execution_count": 7
        }
      ]
    },
    {
      "cell_type": "markdown",
      "source": [
        "Character level splitting"
      ],
      "metadata": {
        "id": "J-ur0NBhn03j"
      }
    },
    {
      "cell_type": "code",
      "source": [
        "chrSplit=[list(name) for name in lower]\n",
        "chrSplit[:5]"
      ],
      "metadata": {
        "colab": {
          "base_uri": "https://localhost:8080/"
        },
        "id": "s-WqGXLnn_tx",
        "outputId": "48546a0f-c347-48b0-d636-67661f07bdda"
      },
      "execution_count": null,
      "outputs": [
        {
          "output_type": "execute_result",
          "data": {
            "text/plain": [
              "[['l', 'y', 'n', 'd', 's', 'i', 'e'],\n",
              " ['v', 'a', 'l'],\n",
              " ['f', 'a', 'e'],\n",
              " ['w', 'i', 'l', 'l', 'i'],\n",
              " ['s', 'u', 't', 't', 'o', 'n']]"
            ]
          },
          "metadata": {},
          "execution_count": 8
        }
      ]
    },
    {
      "cell_type": "markdown",
      "source": [
        "Word2Vec"
      ],
      "metadata": {
        "id": "N876Inyl9g2D"
      }
    },
    {
      "cell_type": "code",
      "source": [
        "size=50\n",
        "word2vec = Word2Vec(chrSplit,size=size,sg=1,min_count=1, workers = -1)\n",
        "#model1.build_vocab(lower)\n",
        "# train the model\n",
        "#model1.train(lower,total_examples=model1.corpus_count,epochs=model1.iter)\n",
        "\n",
        "#we create a dictionary with the word and its vector as the value\n",
        "#vectors_model = dict(zip(model1.wv.index2word, model1.wv.syn0))\n",
        "#model1['a']"
      ],
      "metadata": {
        "colab": {
          "base_uri": "https://localhost:8080/"
        },
        "id": "TvMDIwA79j-h",
        "outputId": "f206eb97-3de1-4da3-a217-0fa1ec9945d1"
      },
      "execution_count": null,
      "outputs": [
        {
          "output_type": "stream",
          "name": "stderr",
          "text": [
            "WARNING:gensim.models.base_any2vec:consider setting layer size to a multiple of 4 for greater performance\n",
            "WARNING:gensim.models.base_any2vec:EPOCH - 1 : supplied example count (0) did not equal expected count (7944)\n",
            "WARNING:gensim.models.base_any2vec:EPOCH - 1 : supplied raw word count (0) did not equal expected count (47925)\n",
            "WARNING:gensim.models.base_any2vec:EPOCH - 2 : supplied example count (0) did not equal expected count (7944)\n",
            "WARNING:gensim.models.base_any2vec:EPOCH - 2 : supplied raw word count (0) did not equal expected count (47925)\n",
            "WARNING:gensim.models.base_any2vec:EPOCH - 3 : supplied example count (0) did not equal expected count (7944)\n",
            "WARNING:gensim.models.base_any2vec:EPOCH - 3 : supplied raw word count (0) did not equal expected count (47925)\n",
            "WARNING:gensim.models.base_any2vec:EPOCH - 4 : supplied example count (0) did not equal expected count (7944)\n",
            "WARNING:gensim.models.base_any2vec:EPOCH - 4 : supplied raw word count (0) did not equal expected count (47925)\n",
            "WARNING:gensim.models.base_any2vec:EPOCH - 5 : supplied example count (0) did not equal expected count (7944)\n",
            "WARNING:gensim.models.base_any2vec:EPOCH - 5 : supplied raw word count (0) did not equal expected count (47925)\n"
          ]
        }
      ]
    },
    {
      "cell_type": "markdown",
      "source": [
        "Vectorize each character using word2vec"
      ],
      "metadata": {
        "id": "JgZv4CsQeuoO"
      }
    },
    {
      "cell_type": "code",
      "source": [
        "wordVec=[[word2vec[chr] for chr in name] for name in chrSplit]\n"
      ],
      "metadata": {
        "colab": {
          "base_uri": "https://localhost:8080/"
        },
        "id": "OMu8qweO-rvG",
        "outputId": "52cc2b5f-945f-4bba-c940-5a5544377b8b"
      },
      "execution_count": null,
      "outputs": [
        {
          "output_type": "stream",
          "name": "stderr",
          "text": [
            "<ipython-input-10-8aff214e9d33>:1: DeprecationWarning: Call to deprecated `__getitem__` (Method will be removed in 4.0.0, use self.wv.__getitem__() instead).\n",
            "  wordVec=[[word2vec[chr] for chr in name] for name in chrSplit]\n"
          ]
        }
      ]
    },
    {
      "cell_type": "markdown",
      "source": [
        "Padding with 0 for Word2Vec"
      ],
      "metadata": {
        "id": "eHYmNPQ1iM5p"
      }
    },
    {
      "cell_type": "code",
      "source": [
        "max_length=30\n",
        "paddedData=[(name + [np.zeros(size,dtype='float32')]*max_length)[:max_length] for name in wordVec]\n",
        "paddedData=np.array(paddedData).astype('float32')\n",
        "print(paddedData[0])\n",
        "print(paddedData.shape)"
      ],
      "metadata": {
        "colab": {
          "base_uri": "https://localhost:8080/"
        },
        "id": "BMfEL2KLgmo1",
        "outputId": "f5df080b-1b09-4584-9743-bd277e8cdfeb"
      },
      "execution_count": null,
      "outputs": [
        {
          "output_type": "stream",
          "name": "stdout",
          "text": [
            "[[-0.00130932  0.00299776  0.00402307 ... -0.0046322   0.00621481\n",
            "   0.00121459]\n",
            " [ 0.00917343  0.00150626  0.00341242 ... -0.00256579 -0.00139139\n",
            "   0.00236537]\n",
            " [-0.00489728 -0.00567592  0.00949099 ... -0.00681717  0.00336296\n",
            "  -0.00336932]\n",
            " ...\n",
            " [ 0.          0.          0.         ...  0.          0.\n",
            "   0.        ]\n",
            " [ 0.          0.          0.         ...  0.          0.\n",
            "   0.        ]\n",
            " [ 0.          0.          0.         ...  0.          0.\n",
            "   0.        ]]\n",
            "(7944, 30, 50)\n"
          ]
        }
      ]
    },
    {
      "cell_type": "markdown",
      "source": [
        "Map char to numbers: (Not used)"
      ],
      "metadata": {
        "id": "zxPbJUpjosZI"
      }
    },
    {
      "cell_type": "code",
      "source": [
        "#data=[[ord(chr) for chr in name] for name in data]\n",
        "#data[:5]"
      ],
      "metadata": {
        "id": "LsJWLP48oyEw"
      },
      "execution_count": null,
      "outputs": []
    },
    {
      "cell_type": "markdown",
      "source": [
        "Padding with 0 (Not used)"
      ],
      "metadata": {
        "id": "-KW4R4EcurWI"
      }
    },
    {
      "cell_type": "code",
      "source": [
        "#max_length=30\n",
        "#paddedData=[(name + [0]*max_length)[:max_length] for name in wordVec]\n",
        "#paddedData=np.array(paddedData).astype('float32')\n",
        "#print(paddedData)\n",
        "#print(paddedData.shape)"
      ],
      "metadata": {
        "id": "Kf4QxZAGugSX"
      },
      "execution_count": null,
      "outputs": []
    },
    {
      "cell_type": "markdown",
      "source": [
        "Using Min-Max Scalar from sklearn (Not used)"
      ],
      "metadata": {
        "id": "cCkArbm6f7R0"
      }
    },
    {
      "cell_type": "code",
      "source": [
        "#scalar = MinMaxScaler()\n",
        "#scaledData=scalar.fit_transform(paddedData)\n",
        "#scaledData"
      ],
      "metadata": {
        "id": "S5__zwJTf6Vq"
      },
      "execution_count": null,
      "outputs": []
    },
    {
      "cell_type": "markdown",
      "source": [
        "# Splitting data into train test"
      ],
      "metadata": {
        "id": "6Dd8elqvgKwB"
      }
    },
    {
      "cell_type": "code",
      "source": [
        "X_train, X_test, y_train, y_test = train_test_split(paddedData,labels, test_size=0.15, stratify=labels,random_state=42)\n",
        "print('Shape of training data: ',X_train.shape)\n",
        "print('Shape of training labels: ',y_train.shape)\n",
        "print('Shape of testing data: ',X_test.shape)\n",
        "print('Shape of testing labels: ',y_test.shape)\n"
      ],
      "metadata": {
        "id": "0OULR_ko5u2_",
        "colab": {
          "base_uri": "https://localhost:8080/"
        },
        "outputId": "95e34a79-1671-467d-e079-ce3f48d535b0"
      },
      "execution_count": null,
      "outputs": [
        {
          "output_type": "stream",
          "name": "stdout",
          "text": [
            "Shape of training data:  (6752, 30, 50)\n",
            "Shape of training labels:  (6752,)\n",
            "Shape of testing data:  (1192, 30, 50)\n",
            "Shape of testing labels:  (1192,)\n"
          ]
        }
      ]
    },
    {
      "cell_type": "markdown",
      "source": [
        "# Visualising training and test data splits"
      ],
      "metadata": {
        "id": "UrstjcfkTJbm"
      }
    },
    {
      "cell_type": "code",
      "source": [
        "fig,ax=plt.subplots()\n",
        "lbl, counts = np.unique(y_train, return_counts=True)\n",
        "ax.bar(lbl, counts, align='center')\n",
        "ax.set_xticks([0,1])\n",
        "ax.set_xticklabels(labels=['Female','Male'])\n",
        "ax.set_title('Training Data distribution')\n",
        "ax.set_xlabel('Labels')\n",
        "ax.set_ylabel('Count')\n",
        "plt.show()"
      ],
      "metadata": {
        "colab": {
          "base_uri": "https://localhost:8080/",
          "height": 295
        },
        "id": "STQYZaU_RVHM",
        "outputId": "6d2cd7c8-89dd-466e-d44f-8d797c4423a5"
      },
      "execution_count": null,
      "outputs": [
        {
          "output_type": "display_data",
          "data": {
            "text/plain": [
              "<Figure size 432x288 with 1 Axes>"
            ],
            "image/png": "[encoded data removed]"
          },
          "metadata": {
            "needs_background": "light"
          }
        }
      ]
    },
    {
      "cell_type": "code",
      "source": [
        "fig,ax=plt.subplots()\n",
        "lbl, counts = np.unique(y_test, return_counts=True)\n",
        "ax.bar(lbl, counts, align='center')\n",
        "ax.set_xticks([0,1])\n",
        "ax.set_xticklabels(labels=['Female','Male'])\n",
        "\n",
        "ax.set_title('Testing Data distribution')\n",
        "ax.set_xlabel('Labels')\n",
        "ax.set_ylabel('Count')\n",
        "plt.show()"
      ],
      "metadata": {
        "colab": {
          "base_uri": "https://localhost:8080/",
          "height": 295
        },
        "id": "eh_HrUmmRYZq",
        "outputId": "27ffb7f7-ca8b-4e1f-9d1d-c8492c6ce922"
      },
      "execution_count": null,
      "outputs": [
        {
          "output_type": "display_data",
          "data": {
            "text/plain": [
              "<Figure size 432x288 with 1 Axes>"
            ],
            "image/png": "[encoded data removed]"
          },
          "metadata": {
            "needs_background": "light"
          }
        }
      ]
    },
    {
      "cell_type": "markdown",
      "source": [
        "# Model Evaluation helper function"
      ],
      "metadata": {
        "id": "NGpRA2Lu6bwd"
      }
    },
    {
      "cell_type": "code",
      "source": [
        "def plot_evaluation(y_test, y_pred):\n",
        "    f1=f1_score(y_test, y_pred, average='binary')\n",
        "    precision=precision_score(y_test, y_pred, average='binary')\n",
        "    recall=recall_score(y_test, y_pred, average='binary')\n",
        "    print('Precision is: ',precision)\n",
        "    print('Recall is: ',recall)\n",
        "    print('F1 Score is: ',f1)\n",
        "    cm=confusion_matrix(y_test, y_pred) \n",
        "    print(cm)\n",
        "    ax= plt.subplot()\n",
        "    sns.heatmap(cm, annot=True, fmt='g', ax=ax)\n",
        "    ax.set_ylabel('Predicted labels');\n",
        "    ax.set_xlabel('True labels')\n",
        "    ax.set_title('Confusion Matrix')\n",
        "    ax.xaxis.set_ticklabels(['Male', 'Female'])\n",
        "    ax.yaxis.set_ticklabels(['Male', 'Female'])\n",
        "    plt.show()"
      ],
      "metadata": {
        "id": "BZpvOBtK6f6O"
      },
      "execution_count": null,
      "outputs": []
    },
    {
      "cell_type": "markdown",
      "source": [
        "# Data training"
      ],
      "metadata": {
        "id": "8JxUZfsVhtOM"
      }
    },
    {
      "cell_type": "markdown",
      "source": [
        "### Task 1: 2 1d Convolution layers"
      ],
      "metadata": {
        "id": "blvYf0t9iGkw"
      }
    },
    {
      "cell_type": "code",
      "source": [
        "model=Sequential()\n",
        "model.add(Conv1D(128,kernel_size=(3),padding='same',input_shape=(X_train.shape[1:]),activation='sigmoid'))\n",
        "model.add(Dropout(0.2))\n",
        "\n",
        "model.add(Conv1D(128,kernel_size=(3),padding='same',activation='sigmoid'))\n",
        "model.add(Dropout(0.3))\n",
        "model.add(Flatten())\n",
        "model.add(Dense(512,activation='sigmoid'))\n",
        "#model.add(Dropout(0.1))\n",
        "model.add(Dense(2,activation='softmax'))"
      ],
      "metadata": {
        "id": "Cg5rCP95lCM0"
      },
      "execution_count": null,
      "outputs": []
    },
    {
      "cell_type": "code",
      "source": [
        "model.summary()"
      ],
      "metadata": {
        "colab": {
          "base_uri": "https://localhost:8080/"
        },
        "id": "-HKZFhv4j1WO",
        "outputId": "b683b795-3d31-4948-b8c9-84f0a3d6cfe1"
      },
      "execution_count": null,
      "outputs": [
        {
          "output_type": "stream",
          "name": "stdout",
          "text": [
            "Model: \"sequential_3\"\n",
            "_________________________________________________________________\n",
            " Layer (type)                Output Shape              Param #   \n",
            "=================================================================\n",
            " conv1d_4 (Conv1D)           (None, 30, 128)           19328     \n",
            "                                                                 \n",
            " dropout_4 (Dropout)         (None, 30, 128)           0         \n",
            "                                                                 \n",
            " conv1d_5 (Conv1D)           (None, 30, 128)           49280     \n",
            "                                                                 \n",
            " dropout_5 (Dropout)         (None, 30, 128)           0         \n",
            "                                                                 \n",
            " flatten_2 (Flatten)         (None, 3840)              0         \n",
            "                                                                 \n",
            " dense_6 (Dense)             (None, 512)               1966592   \n",
            "                                                                 \n",
            " dense_7 (Dense)             (None, 2)                 1026      \n",
            "                                                                 \n",
            "=================================================================\n",
            "Total params: 2,036,226\n",
            "Trainable params: 2,036,226\n",
            "Non-trainable params: 0\n",
            "_________________________________________________________________\n"
          ]
        }
      ]
    },
    {
      "cell_type": "code",
      "source": [
        "adam=Adam(learning_rate=0.001)\n",
        "rmsP=RMSprop(0.001)\n",
        "model.compile(loss='sparse_categorical_crossentropy',\n",
        "                  optimizer=adam,\n",
        "                  metrics=['accuracy'])\n",
        "\n",
        "model.fit(X_train,y_train,\n",
        "          validation_data=(X_test,y_test),\n",
        "          epochs=50,\n",
        "          batch_size=64,\n",
        "          #callbacks=[early,reduceLOR],\n",
        "          verbose=1)"
      ],
      "metadata": {
        "colab": {
          "base_uri": "https://localhost:8080/"
        },
        "id": "wS4AdG1vxMan",
        "outputId": "46802ef0-5830-46a1-d2d2-4c2722ccb439"
      },
      "execution_count": null,
      "outputs": [
        {
          "output_type": "stream",
          "name": "stdout",
          "text": [
            "Epoch 1/50\n",
            "106/106 [==============================] - 1s 7ms/step - loss: 0.8156 - accuracy: 0.6056 - val_loss: 0.6659 - val_accuracy: 0.6292\n",
            "Epoch 2/50\n",
            "106/106 [==============================] - 1s 6ms/step - loss: 0.6689 - accuracy: 0.6200 - val_loss: 0.6920 - val_accuracy: 0.6292\n",
            "Epoch 3/50\n",
            "106/106 [==============================] - 1s 5ms/step - loss: 0.6664 - accuracy: 0.6237 - val_loss: 0.6939 - val_accuracy: 0.6292\n",
            "Epoch 4/50\n",
            "106/106 [==============================] - 1s 5ms/step - loss: 0.6665 - accuracy: 0.6280 - val_loss: 0.6596 - val_accuracy: 0.6292\n",
            "Epoch 5/50\n",
            "106/106 [==============================] - 1s 5ms/step - loss: 0.6681 - accuracy: 0.6238 - val_loss: 0.6668 - val_accuracy: 0.6292\n",
            "Epoch 6/50\n",
            "106/106 [==============================] - 1s 5ms/step - loss: 0.6655 - accuracy: 0.6300 - val_loss: 0.6593 - val_accuracy: 0.6292\n",
            "Epoch 7/50\n",
            "106/106 [==============================] - 1s 5ms/step - loss: 0.6626 - accuracy: 0.6296 - val_loss: 0.6611 - val_accuracy: 0.6292\n",
            "Epoch 8/50\n",
            "106/106 [==============================] - 0s 5ms/step - loss: 0.6629 - accuracy: 0.6296 - val_loss: 0.6608 - val_accuracy: 0.6292\n",
            "Epoch 9/50\n",
            "106/106 [==============================] - 0s 5ms/step - loss: 0.6642 - accuracy: 0.6293 - val_loss: 0.6787 - val_accuracy: 0.6292\n",
            "Epoch 10/50\n",
            "106/106 [==============================] - 1s 5ms/step - loss: 0.6631 - accuracy: 0.6294 - val_loss: 0.6595 - val_accuracy: 0.6292\n",
            "Epoch 11/50\n",
            "106/106 [==============================] - 1s 5ms/step - loss: 0.6644 - accuracy: 0.6294 - val_loss: 0.6572 - val_accuracy: 0.6292\n",
            "Epoch 12/50\n",
            "106/106 [==============================] - 1s 5ms/step - loss: 0.6638 - accuracy: 0.6286 - val_loss: 0.6704 - val_accuracy: 0.6292\n",
            "Epoch 13/50\n",
            "106/106 [==============================] - 0s 5ms/step - loss: 0.6598 - accuracy: 0.6296 - val_loss: 0.6488 - val_accuracy: 0.6292\n",
            "Epoch 14/50\n",
            "106/106 [==============================] - 0s 5ms/step - loss: 0.6539 - accuracy: 0.6274 - val_loss: 0.6391 - val_accuracy: 0.6292\n",
            "Epoch 15/50\n",
            "106/106 [==============================] - 0s 5ms/step - loss: 0.6492 - accuracy: 0.6363 - val_loss: 0.6515 - val_accuracy: 0.7005\n",
            "Epoch 16/50\n",
            "106/106 [==============================] - 1s 5ms/step - loss: 0.6352 - accuracy: 0.6417 - val_loss: 0.6089 - val_accuracy: 0.6602\n",
            "Epoch 17/50\n",
            "106/106 [==============================] - 0s 4ms/step - loss: 0.6241 - accuracy: 0.6462 - val_loss: 0.5961 - val_accuracy: 0.7081\n",
            "Epoch 18/50\n",
            "106/106 [==============================] - 1s 5ms/step - loss: 0.6195 - accuracy: 0.6545 - val_loss: 0.5890 - val_accuracy: 0.6686\n",
            "Epoch 19/50\n",
            "106/106 [==============================] - 1s 5ms/step - loss: 0.6079 - accuracy: 0.6629 - val_loss: 0.5908 - val_accuracy: 0.6628\n",
            "Epoch 20/50\n",
            "106/106 [==============================] - 1s 5ms/step - loss: 0.6058 - accuracy: 0.6629 - val_loss: 0.5738 - val_accuracy: 0.7089\n",
            "Epoch 21/50\n",
            "106/106 [==============================] - 0s 4ms/step - loss: 0.5978 - accuracy: 0.6718 - val_loss: 0.5747 - val_accuracy: 0.6971\n",
            "Epoch 22/50\n",
            "106/106 [==============================] - 1s 5ms/step - loss: 0.5919 - accuracy: 0.6776 - val_loss: 0.5660 - val_accuracy: 0.7030\n",
            "Epoch 23/50\n",
            "106/106 [==============================] - 1s 5ms/step - loss: 0.5914 - accuracy: 0.6758 - val_loss: 0.5624 - val_accuracy: 0.7114\n",
            "Epoch 24/50\n",
            "106/106 [==============================] - 1s 5ms/step - loss: 0.5906 - accuracy: 0.6797 - val_loss: 0.5843 - val_accuracy: 0.6846\n",
            "Epoch 25/50\n",
            "106/106 [==============================] - 0s 5ms/step - loss: 0.5967 - accuracy: 0.6758 - val_loss: 0.5579 - val_accuracy: 0.7265\n",
            "Epoch 26/50\n",
            "106/106 [==============================] - 1s 5ms/step - loss: 0.5810 - accuracy: 0.6903 - val_loss: 0.5532 - val_accuracy: 0.7223\n",
            "Epoch 27/50\n",
            "106/106 [==============================] - 0s 4ms/step - loss: 0.5845 - accuracy: 0.6940 - val_loss: 0.5532 - val_accuracy: 0.7324\n",
            "Epoch 28/50\n",
            "106/106 [==============================] - 1s 5ms/step - loss: 0.5803 - accuracy: 0.6878 - val_loss: 0.5515 - val_accuracy: 0.7223\n",
            "Epoch 29/50\n",
            "106/106 [==============================] - 1s 5ms/step - loss: 0.5775 - accuracy: 0.6888 - val_loss: 0.5518 - val_accuracy: 0.7307\n",
            "Epoch 30/50\n",
            "106/106 [==============================] - 1s 5ms/step - loss: 0.5765 - accuracy: 0.6866 - val_loss: 0.5527 - val_accuracy: 0.7173\n",
            "Epoch 31/50\n",
            "106/106 [==============================] - 1s 5ms/step - loss: 0.5738 - accuracy: 0.6930 - val_loss: 0.5491 - val_accuracy: 0.7206\n",
            "Epoch 32/50\n",
            "106/106 [==============================] - 1s 5ms/step - loss: 0.5759 - accuracy: 0.6956 - val_loss: 0.5687 - val_accuracy: 0.6904\n",
            "Epoch 33/50\n",
            "106/106 [==============================] - 1s 5ms/step - loss: 0.5721 - accuracy: 0.6980 - val_loss: 0.5462 - val_accuracy: 0.7307\n",
            "Epoch 34/50\n",
            "106/106 [==============================] - 0s 5ms/step - loss: 0.5670 - accuracy: 0.7010 - val_loss: 0.5438 - val_accuracy: 0.7433\n",
            "Epoch 35/50\n",
            "106/106 [==============================] - 1s 7ms/step - loss: 0.5678 - accuracy: 0.6961 - val_loss: 0.5446 - val_accuracy: 0.7290\n",
            "Epoch 36/50\n",
            "106/106 [==============================] - 1s 8ms/step - loss: 0.5691 - accuracy: 0.7079 - val_loss: 0.5437 - val_accuracy: 0.7466\n",
            "Epoch 37/50\n",
            "106/106 [==============================] - 1s 10ms/step - loss: 0.5648 - accuracy: 0.7076 - val_loss: 0.5430 - val_accuracy: 0.7290\n",
            "Epoch 38/50\n",
            "106/106 [==============================] - 1s 8ms/step - loss: 0.5632 - accuracy: 0.7060 - val_loss: 0.5445 - val_accuracy: 0.7240\n",
            "Epoch 39/50\n",
            "106/106 [==============================] - 1s 8ms/step - loss: 0.5655 - accuracy: 0.7032 - val_loss: 0.5554 - val_accuracy: 0.7039\n",
            "Epoch 40/50\n",
            "106/106 [==============================] - 1s 7ms/step - loss: 0.5640 - accuracy: 0.7044 - val_loss: 0.5513 - val_accuracy: 0.7097\n",
            "Epoch 41/50\n",
            "106/106 [==============================] - 1s 6ms/step - loss: 0.5618 - accuracy: 0.7090 - val_loss: 0.5390 - val_accuracy: 0.7466\n",
            "Epoch 42/50\n",
            "106/106 [==============================] - 1s 7ms/step - loss: 0.5661 - accuracy: 0.7051 - val_loss: 0.5645 - val_accuracy: 0.6896\n",
            "Epoch 43/50\n",
            "106/106 [==============================] - 1s 7ms/step - loss: 0.5664 - accuracy: 0.7059 - val_loss: 0.5459 - val_accuracy: 0.7156\n",
            "Epoch 44/50\n",
            "106/106 [==============================] - 1s 6ms/step - loss: 0.5596 - accuracy: 0.7084 - val_loss: 0.5529 - val_accuracy: 0.7013\n",
            "Epoch 45/50\n",
            "106/106 [==============================] - 1s 5ms/step - loss: 0.5634 - accuracy: 0.7069 - val_loss: 0.5387 - val_accuracy: 0.7265\n",
            "Epoch 46/50\n",
            "106/106 [==============================] - 0s 5ms/step - loss: 0.5542 - accuracy: 0.7146 - val_loss: 0.5348 - val_accuracy: 0.7265\n",
            "Epoch 47/50\n",
            "106/106 [==============================] - 1s 5ms/step - loss: 0.5579 - accuracy: 0.7041 - val_loss: 0.5604 - val_accuracy: 0.6955\n",
            "Epoch 48/50\n",
            "106/106 [==============================] - 1s 5ms/step - loss: 0.5561 - accuracy: 0.7136 - val_loss: 0.5431 - val_accuracy: 0.7248\n",
            "Epoch 49/50\n",
            "106/106 [==============================] - 0s 5ms/step - loss: 0.5547 - accuracy: 0.7122 - val_loss: 0.5333 - val_accuracy: 0.7315\n",
            "Epoch 50/50\n",
            "106/106 [==============================] - 0s 4ms/step - loss: 0.5580 - accuracy: 0.7149 - val_loss: 0.5347 - val_accuracy: 0.7307\n"
          ]
        },
        {
          "output_type": "execute_result",
          "data": {
            "text/plain": [
              "<keras.callbacks.History at 0x7f5f4876a670>"
            ]
          },
          "metadata": {},
          "execution_count": 31
        }
      ]
    },
    {
      "cell_type": "code",
      "source": [
        "acc_conv=model.evaluate(X_test,y_test)"
      ],
      "metadata": {
        "colab": {
          "base_uri": "https://localhost:8080/"
        },
        "id": "BZ73lGBGx8BJ",
        "outputId": "b39d0504-d512-4e16-cff9-c7f36f4d8abe"
      },
      "execution_count": null,
      "outputs": [
        {
          "output_type": "stream",
          "name": "stdout",
          "text": [
            "38/38 [==============================] - 0s 3ms/step - loss: 0.5347 - accuracy: 0.7307\n"
          ]
        }
      ]
    },
    {
      "cell_type": "code",
      "source": [
        "predictions=model.predict(X_test)\n",
        "print('Accuracy is: ',acc_conv[1])\n",
        "y_pred = np.argmax(predictions,axis=1).astype('float32')\n",
        "plot_evaluation(y_test,y_pred)"
      ],
      "metadata": {
        "colab": {
          "base_uri": "https://localhost:8080/",
          "height": 416
        },
        "id": "iCjYbEJVLwuj",
        "outputId": "1d870207-93f0-4f33-e579-00742a5a7219"
      },
      "execution_count": null,
      "outputs": [
        {
          "output_type": "stream",
          "name": "stdout",
          "text": [
            "38/38 [==============================] - 0s 2ms/step\n",
            "Accuracy is:  0.7307047247886658\n",
            "Precision is:  0.6268343815513627\n",
            "Recall is:  0.6764705882352942\n",
            "F1 Score is:  0.6507072905331882\n",
            "[[572 178]\n",
            " [143 299]]\n"
          ]
        },
        {
          "output_type": "display_data",
          "data": {
            "text/plain": [
              "<Figure size 432x288 with 2 Axes>"
            ],
            "image/png": "[encoded data removed]"
          },
          "metadata": {
            "needs_background": "light"
          }
        }
      ]
    },
    {
      "cell_type": "markdown",
      "source": [
        "### Task 2: LSTM layer"
      ],
      "metadata": {
        "id": "ttgDDLoDdP1F"
      }
    },
    {
      "cell_type": "code",
      "source": [
        "model=Sequential()\n",
        "model.add(LSTM(128,input_shape=(X_train.shape[1:]),activation='relu'))\n",
        "#model.add(Dropout(0.3))\n",
        "#model.add(Flatten())\n",
        "model.add(Dense(512,activation='relu'))\n",
        "#model.add(Dropout(0.3))\n",
        "model.add(Dense(1,activation='sigmoid'))"
      ],
      "metadata": {
        "id": "2RawhuTn4vQ3",
        "colab": {
          "base_uri": "https://localhost:8080/"
        },
        "outputId": "33a2f383-cff2-4072-99b6-752281437b09"
      },
      "execution_count": null,
      "outputs": [
        {
          "output_type": "stream",
          "name": "stderr",
          "text": [
            "WARNING:tensorflow:Layer lstm_3 will not use cuDNN kernels since it doesn't meet the criteria. It will use a generic GPU kernel as fallback when running on GPU.\n"
          ]
        }
      ]
    },
    {
      "cell_type": "code",
      "source": [
        "model.summary()"
      ],
      "metadata": {
        "colab": {
          "base_uri": "https://localhost:8080/"
        },
        "id": "DlhT1dUTdrZj",
        "outputId": "8579d84c-c29f-4b97-f3fe-a1b68878cc04"
      },
      "execution_count": null,
      "outputs": [
        {
          "output_type": "stream",
          "name": "stdout",
          "text": [
            "Model: \"sequential_6\"\n",
            "_________________________________________________________________\n",
            " Layer (type)                Output Shape              Param #   \n",
            "=================================================================\n",
            " lstm_3 (LSTM)               (None, 128)               91648     \n",
            "                                                                 \n",
            " dense_12 (Dense)            (None, 512)               66048     \n",
            "                                                                 \n",
            " dense_13 (Dense)            (None, 1)                 513       \n",
            "                                                                 \n",
            "=================================================================\n",
            "Total params: 158,209\n",
            "Trainable params: 158,209\n",
            "Non-trainable params: 0\n",
            "_________________________________________________________________\n"
          ]
        }
      ]
    },
    {
      "cell_type": "code",
      "source": [
        "sgd = SGD(lr=0.0001, decay=1e-6, momentum=0.9, nesterov=True)\n",
        "adam=Adam(learning_rate=0.001)\n",
        "model.compile(loss='binary_crossentropy',\n",
        "                  optimizer='rmsprop',\n",
        "                  metrics=['accuracy'])\n",
        "\n",
        "model.fit(X_train,y_train,\n",
        "          validation_data=(X_test,y_test),\n",
        "          epochs=20,\n",
        "          batch_size=64,\n",
        "          #callbacks=[early,reduceLOR],\n",
        "          verbose=1)"
      ],
      "metadata": {
        "colab": {
          "base_uri": "https://localhost:8080/"
        },
        "id": "EMyJfgMNdqA8",
        "outputId": "e6175958-b3ec-49c0-dd2f-9f2b0adcf133"
      },
      "execution_count": null,
      "outputs": [
        {
          "output_type": "stream",
          "name": "stdout",
          "text": [
            "Epoch 1/20\n"
          ]
        },
        {
          "output_type": "stream",
          "name": "stderr",
          "text": [
            "/usr/local/lib/python3.8/dist-packages/keras/optimizers/optimizer_v2/gradient_descent.py:108: UserWarning: The `lr` argument is deprecated, use `learning_rate` instead.\n",
            "  super(SGD, self).__init__(name, **kwargs)\n"
          ]
        },
        {
          "output_type": "stream",
          "name": "stdout",
          "text": [
            "106/106 [==============================] - 41s 54ms/step - loss: 0.6624 - accuracy: 0.6284 - val_loss: 0.6625 - val_accuracy: 0.6292\n",
            "Epoch 2/20\n",
            "106/106 [==============================] - 6s 54ms/step - loss: 0.6598 - accuracy: 0.6296 - val_loss: 0.6347 - val_accuracy: 0.6292\n",
            "Epoch 3/20\n",
            "106/106 [==============================] - 6s 60ms/step - loss: 0.6471 - accuracy: 0.6296 - val_loss: 0.6150 - val_accuracy: 0.6292\n",
            "Epoch 4/20\n",
            "106/106 [==============================] - 7s 68ms/step - loss: 0.6347 - accuracy: 0.6321 - val_loss: 0.6252 - val_accuracy: 0.6728\n",
            "Epoch 5/20\n",
            "106/106 [==============================] - 6s 60ms/step - loss: 0.6150 - accuracy: 0.6534 - val_loss: 0.5765 - val_accuracy: 0.7215\n",
            "Epoch 6/20\n",
            "106/106 [==============================] - 6s 57ms/step - loss: 0.6043 - accuracy: 0.6777 - val_loss: 0.6760 - val_accuracy: 0.5327\n",
            "Epoch 7/20\n",
            "106/106 [==============================] - 6s 53ms/step - loss: 0.5951 - accuracy: 0.6773 - val_loss: 0.5449 - val_accuracy: 0.7290\n",
            "Epoch 8/20\n",
            "106/106 [==============================] - 6s 53ms/step - loss: 0.5743 - accuracy: 0.7073 - val_loss: 0.5653 - val_accuracy: 0.6695\n",
            "Epoch 9/20\n",
            "106/106 [==============================] - 6s 53ms/step - loss: 0.5615 - accuracy: 0.7250 - val_loss: 0.5295 - val_accuracy: 0.7534\n",
            "Epoch 10/20\n",
            "106/106 [==============================] - 6s 53ms/step - loss: 0.5549 - accuracy: 0.7266 - val_loss: 0.8483 - val_accuracy: 0.5235\n",
            "Epoch 11/20\n",
            "106/106 [==============================] - 6s 54ms/step - loss: 0.5466 - accuracy: 0.7273 - val_loss: 0.7238 - val_accuracy: 0.6435\n",
            "Epoch 12/20\n",
            "106/106 [==============================] - 6s 52ms/step - loss: 0.5430 - accuracy: 0.7339 - val_loss: 0.5161 - val_accuracy: 0.7517\n",
            "Epoch 13/20\n",
            "106/106 [==============================] - 6s 52ms/step - loss: 0.5343 - accuracy: 0.7392 - val_loss: 0.5446 - val_accuracy: 0.7424\n",
            "Epoch 14/20\n",
            "106/106 [==============================] - 6s 53ms/step - loss: 0.5256 - accuracy: 0.7371 - val_loss: 0.5296 - val_accuracy: 0.7500\n",
            "Epoch 15/20\n",
            "106/106 [==============================] - 6s 54ms/step - loss: 0.5180 - accuracy: 0.7451 - val_loss: 0.5679 - val_accuracy: 0.7131\n",
            "Epoch 16/20\n",
            "106/106 [==============================] - 6s 54ms/step - loss: 0.5146 - accuracy: 0.7493 - val_loss: 0.5122 - val_accuracy: 0.7542\n",
            "Epoch 17/20\n",
            "106/106 [==============================] - 6s 54ms/step - loss: 0.5033 - accuracy: 0.7587 - val_loss: 0.5086 - val_accuracy: 0.7374\n",
            "Epoch 18/20\n",
            "106/106 [==============================] - 6s 53ms/step - loss: 0.4957 - accuracy: 0.7583 - val_loss: 0.5894 - val_accuracy: 0.6938\n",
            "Epoch 19/20\n",
            "106/106 [==============================] - 6s 54ms/step - loss: 0.4976 - accuracy: 0.7599 - val_loss: 0.4941 - val_accuracy: 0.7710\n",
            "Epoch 20/20\n",
            "106/106 [==============================] - 6s 53ms/step - loss: 0.4838 - accuracy: 0.7653 - val_loss: 0.4795 - val_accuracy: 0.7819\n"
          ]
        },
        {
          "output_type": "execute_result",
          "data": {
            "text/plain": [
              "<keras.callbacks.History at 0x7f5f4805e160>"
            ]
          },
          "metadata": {},
          "execution_count": 45
        }
      ]
    },
    {
      "cell_type": "code",
      "source": [
        "acc_lstm=model.evaluate(X_test,y_test)"
      ],
      "metadata": {
        "id": "PaPSUOw2dwsu",
        "colab": {
          "base_uri": "https://localhost:8080/"
        },
        "outputId": "0a813d51-9755-4615-8523-fad1a308a76c"
      },
      "execution_count": null,
      "outputs": [
        {
          "output_type": "stream",
          "name": "stdout",
          "text": [
            "38/38 [==============================] - 0s 8ms/step - loss: 0.4795 - accuracy: 0.7819\n"
          ]
        }
      ]
    },
    {
      "cell_type": "code",
      "source": [
        "predictions=model.predict(X_test)\n",
        "print('Accuracy is: ',acc_lstm[1])\n",
        "y_pred = np.where(predictions > 0.5 , 1., 0.).flatten().astype('float32')\n",
        "plot_evaluation(y_test,y_pred)"
      ],
      "metadata": {
        "colab": {
          "base_uri": "https://localhost:8080/",
          "height": 416
        },
        "id": "kGfUyNcy6XUj",
        "outputId": "e73f546c-aebe-460e-83aa-bbea91df53c7"
      },
      "execution_count": null,
      "outputs": [
        {
          "output_type": "stream",
          "name": "stdout",
          "text": [
            "38/38 [==============================] - 0s 7ms/step\n",
            "Accuracy is:  0.781879186630249\n",
            "Precision is:  0.7446236559139785\n",
            "Recall is:  0.6266968325791855\n",
            "F1 Score is:  0.6805896805896806\n",
            "[[655  95]\n",
            " [165 277]]\n"
          ]
        },
        {
          "output_type": "display_data",
          "data": {
            "text/plain": [
              "<Figure size 432x288 with 2 Axes>"
            ],
            "image/png": "[encoded data removed]"
          },
          "metadata": {
            "needs_background": "light"
          }
        }
      ]
    },
    {
      "cell_type": "markdown",
      "source": [
        "### Task 3: LSTM and Conv"
      ],
      "metadata": {
        "id": "sIG-kB7bqTIX"
      }
    },
    {
      "cell_type": "code",
      "source": [
        "model=Sequential()\n",
        "model.add(LSTM(32,input_shape=(X_train.shape[1:]),activation='relu', return_sequences=True))\n",
        "model.add(Dropout(0.3))\n",
        "model.add(Conv1D(128,kernel_size=(3),padding='same',activation='relu'))\n",
        "model.add(Dropout(0.2))\n",
        "model.add(Flatten())\n",
        "model.add(Dense(512,activation='relu'))\n",
        "#model.add(Dropout(0.3))\n",
        "model.add(Dense(2,activation='softmax'))"
      ],
      "metadata": {
        "colab": {
          "base_uri": "https://localhost:8080/"
        },
        "id": "1miUV0-XqRnJ",
        "outputId": "4f4ec34f-e269-4235-e497-b1ee82b161b1"
      },
      "execution_count": null,
      "outputs": [
        {
          "output_type": "stream",
          "name": "stderr",
          "text": [
            "WARNING:tensorflow:Layer lstm_4 will not use cuDNN kernels since it doesn't meet the criteria. It will use a generic GPU kernel as fallback when running on GPU.\n"
          ]
        }
      ]
    },
    {
      "cell_type": "code",
      "source": [
        "model.summary()"
      ],
      "metadata": {
        "colab": {
          "base_uri": "https://localhost:8080/"
        },
        "id": "iz9_CNuWqmNS",
        "outputId": "7e3e9a6d-0fba-450b-b51f-b923e733eb84"
      },
      "execution_count": null,
      "outputs": [
        {
          "output_type": "stream",
          "name": "stdout",
          "text": [
            "Model: \"sequential_7\"\n",
            "_________________________________________________________________\n",
            " Layer (type)                Output Shape              Param #   \n",
            "=================================================================\n",
            " lstm_4 (LSTM)               (None, 30, 32)            10624     \n",
            "                                                                 \n",
            " dropout_8 (Dropout)         (None, 30, 32)            0         \n",
            "                                                                 \n",
            " conv1d_7 (Conv1D)           (None, 30, 128)           12416     \n",
            "                                                                 \n",
            " dropout_9 (Dropout)         (None, 30, 128)           0         \n",
            "                                                                 \n",
            " flatten_4 (Flatten)         (None, 3840)              0         \n",
            "                                                                 \n",
            " dense_14 (Dense)            (None, 512)               1966592   \n",
            "                                                                 \n",
            " dense_15 (Dense)            (None, 2)                 1026      \n",
            "                                                                 \n",
            "=================================================================\n",
            "Total params: 1,990,658\n",
            "Trainable params: 1,990,658\n",
            "Non-trainable params: 0\n",
            "_________________________________________________________________\n"
          ]
        }
      ]
    },
    {
      "cell_type": "code",
      "source": [
        "sgd = SGD(lr=0.0001, decay=1e-6, momentum=0.9, nesterov=True)\n",
        "adam=Adam(learning_rate=0.001)\n",
        "rmsP=RMSprop(learning_rate=0.001)\n",
        "#Best RMSP lr 0.001\n",
        "model.compile(loss='sparse_categorical_crossentropy',\n",
        "                  optimizer='rmsProp',\n",
        "                  metrics=['accuracy'])\n",
        "\n",
        "model.fit(X_train,y_train,\n",
        "          validation_data=(X_test,y_test),\n",
        "          epochs=20,\n",
        "          batch_size=32,\n",
        "          #class_weight=classWeight,\n",
        "          #callbacks=[early,reduceLOR],\n",
        "          verbose=1)"
      ],
      "metadata": {
        "colab": {
          "base_uri": "https://localhost:8080/"
        },
        "id": "Fhsr0E-pq5Io",
        "outputId": "295b0de4-1d64-474f-86ea-0dd925ba1155"
      },
      "execution_count": null,
      "outputs": [
        {
          "output_type": "stream",
          "name": "stdout",
          "text": [
            "Epoch 1/20\n"
          ]
        },
        {
          "output_type": "stream",
          "name": "stderr",
          "text": [
            "/usr/local/lib/python3.8/dist-packages/keras/optimizers/optimizer_v2/gradient_descent.py:108: UserWarning: The `lr` argument is deprecated, use `learning_rate` instead.\n",
            "  super(SGD, self).__init__(name, **kwargs)\n"
          ]
        },
        {
          "output_type": "stream",
          "name": "stdout",
          "text": [
            "211/211 [==============================] - 6s 24ms/step - loss: 0.6311 - accuracy: 0.6468 - val_loss: 0.5652 - val_accuracy: 0.7206\n",
            "Epoch 2/20\n",
            "211/211 [==============================] - 5s 22ms/step - loss: 0.5574 - accuracy: 0.7094 - val_loss: 0.5164 - val_accuracy: 0.7559\n",
            "Epoch 3/20\n",
            "211/211 [==============================] - 6s 27ms/step - loss: 0.5337 - accuracy: 0.7367 - val_loss: 0.5019 - val_accuracy: 0.7592\n",
            "Epoch 4/20\n",
            "211/211 [==============================] - 5s 22ms/step - loss: 0.5204 - accuracy: 0.7402 - val_loss: 0.4997 - val_accuracy: 0.7542\n",
            "Epoch 5/20\n",
            "211/211 [==============================] - 5s 22ms/step - loss: 0.5112 - accuracy: 0.7456 - val_loss: 0.5040 - val_accuracy: 0.7475\n",
            "Epoch 6/20\n",
            "211/211 [==============================] - 5s 22ms/step - loss: 0.5065 - accuracy: 0.7496 - val_loss: 0.5114 - val_accuracy: 0.7508\n",
            "Epoch 7/20\n",
            "211/211 [==============================] - 5s 22ms/step - loss: 0.4935 - accuracy: 0.7657 - val_loss: 0.4906 - val_accuracy: 0.7576\n",
            "Epoch 8/20\n",
            "211/211 [==============================] - 5s 22ms/step - loss: 0.4893 - accuracy: 0.7648 - val_loss: 0.4813 - val_accuracy: 0.7643\n",
            "Epoch 9/20\n",
            "211/211 [==============================] - 5s 23ms/step - loss: 0.4819 - accuracy: 0.7721 - val_loss: 0.4945 - val_accuracy: 0.7534\n",
            "Epoch 10/20\n",
            "211/211 [==============================] - 5s 22ms/step - loss: 0.4778 - accuracy: 0.7669 - val_loss: 0.4999 - val_accuracy: 0.7710\n",
            "Epoch 11/20\n",
            "211/211 [==============================] - 5s 22ms/step - loss: 0.4743 - accuracy: 0.7688 - val_loss: 0.4835 - val_accuracy: 0.7785\n",
            "Epoch 12/20\n",
            "211/211 [==============================] - 5s 23ms/step - loss: 0.4685 - accuracy: 0.7715 - val_loss: 0.4727 - val_accuracy: 0.7685\n",
            "Epoch 13/20\n",
            "211/211 [==============================] - 5s 23ms/step - loss: 0.4580 - accuracy: 0.7829 - val_loss: 0.4475 - val_accuracy: 0.7903\n",
            "Epoch 14/20\n",
            "211/211 [==============================] - 5s 22ms/step - loss: 0.4559 - accuracy: 0.7812 - val_loss: 0.4609 - val_accuracy: 0.7785\n",
            "Epoch 15/20\n",
            "211/211 [==============================] - 5s 22ms/step - loss: 0.4474 - accuracy: 0.7847 - val_loss: 0.4642 - val_accuracy: 0.7827\n",
            "Epoch 16/20\n",
            "211/211 [==============================] - 5s 23ms/step - loss: 0.4454 - accuracy: 0.7847 - val_loss: 0.4475 - val_accuracy: 0.7961\n",
            "Epoch 17/20\n",
            "211/211 [==============================] - 5s 22ms/step - loss: 0.4418 - accuracy: 0.7875 - val_loss: 0.4459 - val_accuracy: 0.7961\n",
            "Epoch 18/20\n",
            "211/211 [==============================] - 5s 23ms/step - loss: 0.4374 - accuracy: 0.7873 - val_loss: 0.4461 - val_accuracy: 0.7945\n",
            "Epoch 19/20\n",
            "211/211 [==============================] - 5s 23ms/step - loss: 0.4321 - accuracy: 0.7879 - val_loss: 0.4607 - val_accuracy: 0.7768\n",
            "Epoch 20/20\n",
            "211/211 [==============================] - 5s 22ms/step - loss: 0.4335 - accuracy: 0.7906 - val_loss: 0.4594 - val_accuracy: 0.8020\n"
          ]
        },
        {
          "output_type": "execute_result",
          "data": {
            "text/plain": [
              "<keras.callbacks.History at 0x7f5fc0c825e0>"
            ]
          },
          "metadata": {},
          "execution_count": 51
        }
      ]
    },
    {
      "cell_type": "code",
      "source": [
        "acc_ConvLSTM=model.evaluate(X_test,y_test)"
      ],
      "metadata": {
        "colab": {
          "base_uri": "https://localhost:8080/"
        },
        "id": "WdgJr3cGq9hs",
        "outputId": "3a629e5e-515a-4dce-da41-c3bcf3731eda"
      },
      "execution_count": null,
      "outputs": [
        {
          "output_type": "stream",
          "name": "stdout",
          "text": [
            "38/38 [==============================] - 0s 7ms/step - loss: 0.4594 - accuracy: 0.8020\n"
          ]
        }
      ]
    },
    {
      "cell_type": "code",
      "source": [
        "predictions=model.predict(X_test)\n",
        "print('Accuracy is: ',acc_ConvLSTM[1])\n",
        "y_pred = np.argmax(predictions,axis=1).astype('float32')\n",
        "plot_evaluation(y_test,y_pred)"
      ],
      "metadata": {
        "colab": {
          "base_uri": "https://localhost:8080/",
          "height": 416
        },
        "id": "UO72CyVgOqvC",
        "outputId": "c02f1e60-97ee-478d-c90d-75b730eac538"
      },
      "execution_count": null,
      "outputs": [
        {
          "output_type": "stream",
          "name": "stdout",
          "text": [
            "38/38 [==============================] - 0s 6ms/step\n",
            "Accuracy is:  0.8020133972167969\n",
            "Precision is:  0.7229437229437229\n",
            "Recall is:  0.755656108597285\n",
            "F1 Score is:  0.7389380530973451\n",
            "[[622 128]\n",
            " [108 334]]\n"
          ]
        },
        {
          "output_type": "display_data",
          "data": {
            "text/plain": [
              "<Figure size 432x288 with 2 Axes>"
            ],
            "image/png": "[encoded data removed]"
          },
          "metadata": {
            "needs_background": "light"
          }
        }
      ]
    },
    {
      "cell_type": "markdown",
      "source": [
        "# Comparison of approaches"
      ],
      "metadata": {
        "id": "TePPEcJY9fvI"
      }
    },
    {
      "cell_type": "code",
      "source": [
        "valuePlot = [val for val in zip(acc_conv, acc_lstm, acc_ConvLSTM)]\n",
        "x=range(len(valuePlot[0]))\n",
        "fig,ax=plt.subplots()\n",
        "ax.plot(x,valuePlot[0], label='Loss')\n",
        "ax.plot(x,valuePlot[1], label='Accuracy')\n",
        "ax.set_xticks([0,1,2])\n",
        "ax.set_xticklabels(labels=['Conv', 'LSTM', 'Conv + LSTM'])\n",
        "ax.set_title('Comparison of accuracy and loss')\n",
        "ax.set_xlabel('Approaches')\n",
        "ax.legend()\n",
        "plt.show()"
      ],
      "metadata": {
        "colab": {
          "base_uri": "https://localhost:8080/",
          "height": 295
        },
        "id": "Gbud07ep9jIA",
        "outputId": "7d1b3c46-ff95-4921-f403-7be31244ddd3"
      },
      "execution_count": null,
      "outputs": [
        {
          "output_type": "display_data",
          "data": {
            "text/plain": [
              "<Figure size 432x288 with 1 Axes>"
            ],
            "image/png": "[encoded data removed]"
          },
          "metadata": {
            "needs_background": "light"
          }
        }
      ]
    },
    {
      "cell_type": "markdown",
      "source": [
        "# Testing"
      ],
      "metadata": {
        "id": "mjRIyxEeOscU"
      }
    },
    {
      "cell_type": "code",
      "source": [
        "name=['Laxmikanth']\n",
        "lower=[x.lower() for x in name]\n",
        "chars=[list(nm) for nm in lower]\n",
        "wordVec=[[word2vec[chr] for chr in name] for name in chars]\n",
        "max_length=30\n",
        "paddedData=[(name + [np.zeros(size,dtype='float32')]*max_length)[:max_length] for name in wordVec]\n",
        "paddedData=np.array(paddedData).astype('float32')\n",
        "paddedData.shape"
      ],
      "metadata": {
        "colab": {
          "base_uri": "https://localhost:8080/"
        },
        "id": "5NpMPWiark_M",
        "outputId": "a7ca3629-c939-4ebf-e479-197f7d0df2b1"
      },
      "execution_count": null,
      "outputs": [
        {
          "output_type": "stream",
          "name": "stderr",
          "text": [
            "/usr/local/lib/python3.7/dist-packages/ipykernel_launcher.py:4: DeprecationWarning: Call to deprecated `__getitem__` (Method will be removed in 4.0.0, use self.wv.__getitem__() instead).\n",
            "  after removing the cwd from sys.path.\n"
          ]
        },
        {
          "output_type": "execute_result",
          "data": {
            "text/plain": [
              "(1, 30, 50)"
            ]
          },
          "metadata": {},
          "execution_count": 95
        }
      ]
    },
    {
      "cell_type": "code",
      "source": [
        "pred=model.predict(paddedData)\n",
        "classes_x=np.argmax(pred,axis=1)\n",
        "print('Female' if not classes_x else 'Male')\n",
        "print('Probability: ',max(pred[0]))\n"
      ],
      "metadata": {
        "colab": {
          "base_uri": "https://localhost:8080/"
        },
        "id": "LpTBpkq92dPh",
        "outputId": "4d670686-67f1-4721-acb3-1f9110b2bc44"
      },
      "execution_count": null,
      "outputs": [
        {
          "output_type": "stream",
          "name": "stdout",
          "text": [
            "1/1 [==============================] - 0s 19ms/step\n",
            "Male\n",
            "Probability:  0.838273\n"
          ]
        }
      ]
    }
  ]
}